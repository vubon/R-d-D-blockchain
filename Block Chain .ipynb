{
 "cells": [
  {
   "cell_type": "code",
   "execution_count": 24,
   "metadata": {},
   "outputs": [
    {
     "name": "stdout",
     "output_type": "stream",
     "text": [
      "Block #1 has been added to the blockchain!\n",
      "Hash: 1219c1cf3aef546853403d9364da0f084256d4d7a3e89f9ab224b883a6154470\n",
      "\n",
      "Block #2 has been added to the blockchain!\n",
      "Hash: fda6a75581774475f1bf40e1e037c281aa1299b73a52f79e15032353ad7e9aa0\n",
      "\n",
      "Block #3 has been added to the blockchain!\n",
      "Hash: 21e957f32cdf1b0a7bd50c7beb9289ad8a9981000b2dd4e32554b06410591b48\n",
      "\n",
      "Block #4 has been added to the blockchain!\n",
      "Hash: cdae27caef3f903f25402271a3318de63ad123c19c38e4ebf43655917d23b0f2\n",
      "\n",
      "Block #5 has been added to the blockchain!\n",
      "Hash: 1403d8c2a9550cd26d1cc8cc353481716ccc9080d3655907f2ba71c51299c5ae\n",
      "\n",
      "Block #6 has been added to the blockchain!\n",
      "Hash: 3d62f52a16f898caee3dba474da133195078f406fe8b27ec57cfb4209d9fcb48\n",
      "\n",
      "Block #7 has been added to the blockchain!\n",
      "Hash: 8e63b45086ca060c77c4e1e153624cdbfeb60acc667f7b63841a166df2428ab6\n",
      "\n",
      "Block #8 has been added to the blockchain!\n",
      "Hash: 4e9fff3e03e3b321de0d49814eb5b30e45e65d784e7031f60738e3712ac593f1\n",
      "\n",
      "Block #9 has been added to the blockchain!\n",
      "Hash: b2acd14639bce2bae169a8b147651a25ff645139c99bf08f048138952e24edd5\n",
      "\n",
      "Block #10 has been added to the blockchain!\n",
      "Hash: 5fa3b8bde441652fec73668173e564e8f547814da52e18a9dbc1f1cf4de2cdf2\n",
      "\n",
      "Block #11 has been added to the blockchain!\n",
      "Hash: c59aba9cc77722ca1da9599273c4273643829090324eb50ccaf40f5e14ef47dc\n",
      "\n",
      "Block #12 has been added to the blockchain!\n",
      "Hash: df70b2801ab50e6b83c63345e8592155737d4e884adb3eebefacf73f7fad5f80\n",
      "\n",
      "Block #13 has been added to the blockchain!\n",
      "Hash: b2eec0a86e64792b9ce326cf5958b80c95c6c15d26d515f5019663d98aaf8a61\n",
      "\n",
      "Block #14 has been added to the blockchain!\n",
      "Hash: bda8e3bd257ba3a488c5f8e5c066941f21171f0e16b71c08028fbda657ca16b1\n",
      "\n",
      "Block #15 has been added to the blockchain!\n",
      "Hash: 5c6b10ebc55473f786b145f66614fe12a423c13dc4005fbed2539d337d330887\n",
      "\n"
     ]
    }
   ],
   "source": [
    "import hashlib\n",
    "import datetime\n",
    "class Block:\n",
    "    \n",
    "    def __init__(self,index, timestamp, data, previous_hash):\n",
    "        self.index = index\n",
    "        self.timestamp = timestamp\n",
    "        self.data = data\n",
    "        self.previous_hash = previous_hash\n",
    "        self.hash = self.hash_block()\n",
    "    \n",
    "    def hash_block(self):\n",
    "        sha = hashlib.sha256()\n",
    "        sha.update(str(self.index).encode('utf-8') + \n",
    "                   str(self.timestamp).encode('utf-8') + \n",
    "                   str(self.data).encode('utf-8') + \n",
    "                   str(self.previous_hash).encode('utf-8'))\n",
    "        return sha.hexdigest()\n",
    "\n",
    "def test_block():\n",
    "    return Block(0, datetime.datetime.now(), 'Hello Vubon', \"0\")\n",
    "\n",
    "def next_block(last_blcok):\n",
    "    index = last_blcok.index + 1\n",
    "    timestamp = datetime.datetime.now()\n",
    "    data = \"Hello there\"\n",
    "    pre_hash = last_blcok.hash\n",
    "    return Block(index, timestamp, data, pre_hash)\n",
    "\n",
    "blockchain = [test_block()]\n",
    "previous_block = blockchain[0]\n",
    "\n",
    "num_of_blocks_to_add = 15\n",
    "\n",
    "for i in range(0, num_of_blocks_to_add):\n",
    "    block_to_add = next_block(previous_block)\n",
    "    blockchain.append(block_to_add)\n",
    "    previous_block = block_to_add\n",
    "    # Tell everyone about it!\n",
    "    print(\"Block #{} has been added to the blockchain!\".format(block_to_add.index))\n",
    "    print(\"Hash: {}\\n\".format(block_to_add.hash))\n"
   ]
  },
  {
   "cell_type": "code",
   "execution_count": null,
   "metadata": {
    "collapsed": true
   },
   "outputs": [],
   "source": []
  }
 ],
 "metadata": {
  "kernelspec": {
   "display_name": "Python 3",
   "language": "python",
   "name": "python3"
  },
  "language_info": {
   "codemirror_mode": {
    "name": "ipython",
    "version": 3
   },
   "file_extension": ".py",
   "mimetype": "text/x-python",
   "name": "python",
   "nbconvert_exporter": "python",
   "pygments_lexer": "ipython3",
   "version": "3.6.3"
  }
 },
 "nbformat": 4,
 "nbformat_minor": 2
}
